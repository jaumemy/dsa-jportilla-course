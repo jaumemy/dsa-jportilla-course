{
 "cells": [
  {
   "cell_type": "code",
   "execution_count": 7,
   "metadata": {},
   "outputs": [],
   "source": [
    "def permute(s):\n",
    "    \n",
    "    result_list = []\n",
    "    \n",
    "    if len(s) == 1:\n",
    "        result_list = [s]\n",
    "    \n",
    "    else:\n",
    "        for i,letter in enumerate(s):\n",
    "            for permutation in permute( s[:i] + s[i+1:]  ):\n",
    "                result_list.append( letter+permutation )\n",
    "    \n",
    "                \n",
    "    \n",
    "    return result_list\n",
    "        \n",
    "    \n",
    "    "
   ]
  },
  {
   "cell_type": "code",
   "execution_count": 16,
   "metadata": {},
   "outputs": [
    {
     "name": "stdout",
     "output_type": "stream",
     "text": [
      "i=0, letter=a\n",
      " + bc\n",
      " \n",
      "+c\n",
      " \n",
      "b+\n",
      " \n",
      "letter=a, permutation=bc  \n",
      "\n",
      "letter=a, permutation=cb  \n",
      "\n",
      "------------------------- \n",
      "i=1, letter=b\n",
      "a + c\n",
      " \n",
      "+c\n",
      " \n",
      "a+\n",
      " \n",
      "letter=b, permutation=ac  \n",
      "\n",
      "letter=b, permutation=ca  \n",
      "\n",
      "------------------------- \n",
      "i=2, letter=c\n",
      "ab + \n",
      " \n",
      "+b\n",
      " \n",
      "a+\n",
      " \n",
      "letter=c, permutation=ab  \n",
      "\n",
      "letter=c, permutation=ba  \n",
      "\n",
      "------------------------- \n"
     ]
    }
   ],
   "source": [
    "## Just to understand how code works\n",
    "\n",
    "for i,letter in enumerate('abc'):\n",
    "    s = 'abc'\n",
    "    print(f'i={i}, letter={letter}')\n",
    "    print(f'{s[:i]} + {s[i+1:]}')\n",
    "    print(' ')\n",
    "    for permutation in permute( s[:i] + s[i+1:] ):\n",
    "        print(f'letter={letter}, permutation={permutation}  ')\n",
    "        print('')\n",
    "    print('------------------------- ')"
   ]
  },
  {
   "cell_type": "code",
   "execution_count": 8,
   "metadata": {},
   "outputs": [
    {
     "name": "stdout",
     "output_type": "stream",
     "text": [
      "+c\n",
      " \n",
      "b+\n",
      " \n",
      "+bc\n",
      " \n",
      "+bc\n",
      " \n",
      "+c\n",
      " \n",
      "a+\n",
      " \n",
      "a+c\n",
      " \n",
      "a+c\n",
      " \n",
      "+b\n",
      " \n",
      "a+\n",
      " \n",
      "ab+\n",
      " \n",
      "ab+\n",
      " \n"
     ]
    },
    {
     "data": {
      "text/plain": [
       "['abc', 'acb', 'bac', 'bca', 'cab', 'cba']"
      ]
     },
     "execution_count": 8,
     "metadata": {},
     "output_type": "execute_result"
    }
   ],
   "source": [
    "permute('abc')"
   ]
  },
  {
   "cell_type": "code",
   "execution_count": 18,
   "metadata": {},
   "outputs": [
    {
     "name": "stdout",
     "output_type": "stream",
     "text": [
      "+c\n",
      " \n",
      "b+\n",
      " \n",
      "+bc\n",
      " \n",
      "+bc\n",
      " \n",
      "+c\n",
      " \n",
      "a+\n",
      " \n",
      "a+c\n",
      " \n",
      "a+c\n",
      " \n",
      "+b\n",
      " \n",
      "a+\n",
      " \n",
      "ab+\n",
      " \n",
      "ab+\n",
      " \n",
      "+g\n",
      " \n",
      "o+\n",
      " \n",
      "+og\n",
      " \n",
      "+og\n",
      " \n",
      "+g\n",
      " \n",
      "d+\n",
      " \n",
      "d+g\n",
      " \n",
      "d+g\n",
      " \n",
      "+o\n",
      " \n",
      "d+\n",
      " \n",
      "do+\n",
      " \n",
      "do+\n",
      " \n",
      "All test cases passed.\n"
     ]
    }
   ],
   "source": [
    "\"\"\"\n",
    "RUN THIS CELL TO TEST YOUR SOLUTION.\n",
    "\"\"\"\n",
    "\n",
    "from nose.tools import assert_equal\n",
    "\n",
    "class TestPerm(object):\n",
    "    \n",
    "    def test(self,solution):\n",
    "        \n",
    "        assert_equal(sorted(solution('abc')),sorted(['abc', 'acb', 'bac', 'bca', 'cab', 'cba']))\n",
    "        assert_equal(sorted(solution('dog')),sorted(['dog', 'dgo', 'odg', 'ogd', 'gdo', 'god']) )\n",
    "        \n",
    "        print('All test cases passed.')\n",
    "        \n",
    "\n",
    "\n",
    "# Run Tests\n",
    "t = TestPerm()\n",
    "t.test(permute)"
   ]
  },
  {
   "cell_type": "code",
   "execution_count": null,
   "metadata": {},
   "outputs": [],
   "source": []
  }
 ],
 "metadata": {
  "kernelspec": {
   "display_name": "Python 3",
   "language": "python",
   "name": "python3"
  },
  "language_info": {
   "codemirror_mode": {
    "name": "ipython",
    "version": 3
   },
   "file_extension": ".py",
   "mimetype": "text/x-python",
   "name": "python",
   "nbconvert_exporter": "python",
   "pygments_lexer": "ipython3",
   "version": "3.8.6"
  }
 },
 "nbformat": 4,
 "nbformat_minor": 4
}
