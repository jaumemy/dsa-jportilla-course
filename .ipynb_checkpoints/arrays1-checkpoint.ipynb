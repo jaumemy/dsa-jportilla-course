{
 "cells": [
  {
   "cell_type": "markdown",
   "metadata": {},
   "source": [
    "Dynamic Array Implementation"
   ]
  },
  {
   "cell_type": "code",
   "execution_count": 11,
   "metadata": {},
   "outputs": [],
   "source": [
    "import ctypes\n",
    "\n",
    "class DynamicArray(object):\n",
    "    '''\n",
    "    DYNAMIC ARRAY CLASS (Similar to Python List)\n",
    "    '''\n",
    "    \n",
    "    def __init__(self):\n",
    "        self.n = 0 # Count actual elements (Default is 0)\n",
    "        self.capacity = 1 # Default Capacity\n",
    "        self.A = self.make_array(self.capacity)\n",
    "        \n",
    "    def __len__(self):\n",
    "        \"\"\"\n",
    "        Return number of elements sorted in array\n",
    "        \"\"\"\n",
    "        return self.n\n",
    "    \n",
    "    def __getitem__(self,k):\n",
    "        \"\"\"\n",
    "        Return element at index k\n",
    "        \"\"\"\n",
    "        if not 0 <= k <self.n:\n",
    "            return IndexError('K is out of bounds!') # Check it k index is in bounds of array\n",
    "        \n",
    "        return self.A[k] #Retrieve from array at index k\n",
    "        \n",
    "    def append(self, ele):\n",
    "        \"\"\"\n",
    "        Add element to end of the array\n",
    "        \"\"\"\n",
    "        if self.n == self.capacity:\n",
    "            self._resize(2*self.capacity) #Double capacity if not enough room\n",
    "        \n",
    "        self.A[self.n] = ele #Set self.n index to element\n",
    "        self.n += 1\n",
    "        \n",
    "    def _resize(self,new_cap):\n",
    "        \"\"\"\n",
    "        Resize internal array to capacity new_cap\n",
    "        \"\"\"\n",
    "        \n",
    "        B = self.make_array(new_cap) # New bigger array\n",
    "        \n",
    "        for k in range(self.n): # Reference all existing values\n",
    "            B[k] = self.A[k]\n",
    "            \n",
    "        self.A = B # Call A the new bigger array\n",
    "        self.capacity = new_cap # Reset the capacity\n",
    "        \n",
    "    def make_array(self,new_cap):\n",
    "        \"\"\"\n",
    "        Returns a new array with new_cap capacity\n",
    "        \"\"\"\n",
    "        return (new_cap * ctypes.py_object)()"
   ]
  },
  {
   "cell_type": "code",
   "execution_count": 12,
   "metadata": {},
   "outputs": [],
   "source": [
    "arr = DynamicArray()"
   ]
  },
  {
   "cell_type": "code",
   "execution_count": 14,
   "metadata": {},
   "outputs": [],
   "source": [
    "arr.append(1)"
   ]
  },
  {
   "cell_type": "code",
   "execution_count": 16,
   "metadata": {},
   "outputs": [
    {
     "data": {
      "text/plain": [
       "1"
      ]
     },
     "execution_count": 16,
     "metadata": {},
     "output_type": "execute_result"
    }
   ],
   "source": [
    "len(arr)"
   ]
  },
  {
   "cell_type": "code",
   "execution_count": 9,
   "metadata": {},
   "outputs": [],
   "source": [
    "import sys"
   ]
  },
  {
   "cell_type": "code",
   "execution_count": 17,
   "metadata": {},
   "outputs": [
    {
     "data": {
      "text/plain": [
       "48"
      ]
     },
     "execution_count": 17,
     "metadata": {},
     "output_type": "execute_result"
    }
   ],
   "source": [
    "sys.getsizeof(arr)"
   ]
  },
  {
   "cell_type": "code",
   "execution_count": 18,
   "metadata": {},
   "outputs": [],
   "source": [
    "arr.append(2)"
   ]
  },
  {
   "cell_type": "code",
   "execution_count": 19,
   "metadata": {},
   "outputs": [
    {
     "data": {
      "text/plain": [
       "2"
      ]
     },
     "execution_count": 19,
     "metadata": {},
     "output_type": "execute_result"
    }
   ],
   "source": [
    "len(arr)"
   ]
  },
  {
   "cell_type": "code",
   "execution_count": 20,
   "metadata": {},
   "outputs": [
    {
     "data": {
      "text/plain": [
       "48"
      ]
     },
     "execution_count": 20,
     "metadata": {},
     "output_type": "execute_result"
    }
   ],
   "source": [
    "sys.getsizeof(arr)"
   ]
  },
  {
   "cell_type": "code",
   "execution_count": 21,
   "metadata": {},
   "outputs": [],
   "source": [
    "arr.append(3)"
   ]
  },
  {
   "cell_type": "code",
   "execution_count": 22,
   "metadata": {},
   "outputs": [
    {
     "data": {
      "text/plain": [
       "48"
      ]
     },
     "execution_count": 22,
     "metadata": {},
     "output_type": "execute_result"
    }
   ],
   "source": [
    "sys.getsizeof(arr)"
   ]
  },
  {
   "cell_type": "code",
   "execution_count": 29,
   "metadata": {},
   "outputs": [],
   "source": [
    "arr2 = DynamicArray()"
   ]
  },
  {
   "cell_type": "code",
   "execution_count": 30,
   "metadata": {},
   "outputs": [
    {
     "name": "stdout",
     "output_type": "stream",
     "text": [
      "1\n",
      "48\n",
      "\n",
      "2\n",
      "48\n",
      "\n",
      "3\n",
      "48\n",
      "\n",
      "4\n",
      "48\n",
      "\n",
      "5\n",
      "48\n",
      "\n",
      "6\n",
      "48\n",
      "\n",
      "7\n",
      "48\n",
      "\n",
      "8\n",
      "48\n",
      "\n",
      "9\n",
      "48\n",
      "\n",
      "10\n",
      "48\n",
      "\n",
      "11\n",
      "48\n",
      "\n",
      "12\n",
      "48\n",
      "\n",
      "13\n",
      "48\n",
      "\n",
      "14\n",
      "48\n",
      "\n",
      "15\n",
      "48\n",
      "\n",
      "16\n",
      "48\n",
      "\n",
      "17\n",
      "48\n",
      "\n",
      "18\n",
      "48\n",
      "\n",
      "19\n",
      "48\n",
      "\n",
      "20\n",
      "48\n",
      "\n",
      "21\n",
      "48\n",
      "\n",
      "22\n",
      "48\n",
      "\n",
      "23\n",
      "48\n",
      "\n",
      "24\n",
      "48\n",
      "\n",
      "25\n",
      "48\n",
      "\n",
      "26\n",
      "48\n",
      "\n",
      "27\n",
      "48\n",
      "\n",
      "28\n",
      "48\n",
      "\n",
      "29\n",
      "48\n",
      "\n",
      "30\n",
      "48\n",
      "\n",
      "31\n",
      "48\n",
      "\n",
      "32\n",
      "48\n",
      "\n",
      "33\n",
      "48\n",
      "\n",
      "34\n",
      "48\n",
      "\n",
      "35\n",
      "48\n",
      "\n",
      "36\n",
      "48\n",
      "\n",
      "37\n",
      "48\n",
      "\n",
      "38\n",
      "48\n",
      "\n",
      "39\n",
      "48\n",
      "\n",
      "40\n",
      "48\n",
      "\n",
      "41\n",
      "48\n",
      "\n",
      "42\n",
      "48\n",
      "\n",
      "43\n",
      "48\n",
      "\n",
      "44\n",
      "48\n",
      "\n",
      "45\n",
      "48\n",
      "\n",
      "46\n",
      "48\n",
      "\n",
      "47\n",
      "48\n",
      "\n",
      "48\n",
      "48\n",
      "\n",
      "49\n",
      "48\n",
      "\n",
      "50\n",
      "48\n",
      "\n",
      "51\n",
      "48\n",
      "\n",
      "52\n",
      "48\n",
      "\n",
      "53\n",
      "48\n",
      "\n",
      "54\n",
      "48\n",
      "\n",
      "55\n",
      "48\n",
      "\n",
      "56\n",
      "48\n",
      "\n",
      "57\n",
      "48\n",
      "\n",
      "58\n",
      "48\n",
      "\n",
      "59\n",
      "48\n",
      "\n",
      "60\n",
      "48\n",
      "\n",
      "61\n",
      "48\n",
      "\n",
      "62\n",
      "48\n",
      "\n",
      "63\n",
      "48\n",
      "\n",
      "64\n",
      "48\n",
      "\n",
      "65\n",
      "48\n",
      "\n",
      "66\n",
      "48\n",
      "\n",
      "67\n",
      "48\n",
      "\n",
      "68\n",
      "48\n",
      "\n",
      "69\n",
      "48\n",
      "\n",
      "70\n",
      "48\n",
      "\n",
      "71\n",
      "48\n",
      "\n",
      "72\n",
      "48\n",
      "\n",
      "73\n",
      "48\n",
      "\n",
      "74\n",
      "48\n",
      "\n",
      "75\n",
      "48\n",
      "\n",
      "76\n",
      "48\n",
      "\n",
      "77\n",
      "48\n",
      "\n",
      "78\n",
      "48\n",
      "\n",
      "79\n",
      "48\n",
      "\n",
      "80\n",
      "48\n",
      "\n",
      "81\n",
      "48\n",
      "\n",
      "82\n",
      "48\n",
      "\n",
      "83\n",
      "48\n",
      "\n",
      "84\n",
      "48\n",
      "\n",
      "85\n",
      "48\n",
      "\n",
      "86\n",
      "48\n",
      "\n",
      "87\n",
      "48\n",
      "\n",
      "88\n",
      "48\n",
      "\n",
      "89\n",
      "48\n",
      "\n",
      "90\n",
      "48\n",
      "\n",
      "91\n",
      "48\n",
      "\n",
      "92\n",
      "48\n",
      "\n",
      "93\n",
      "48\n",
      "\n",
      "94\n",
      "48\n",
      "\n",
      "95\n",
      "48\n",
      "\n",
      "96\n",
      "48\n",
      "\n",
      "97\n",
      "48\n",
      "\n",
      "98\n",
      "48\n",
      "\n",
      "99\n",
      "48\n",
      "\n",
      "100\n",
      "48\n",
      "\n"
     ]
    }
   ],
   "source": [
    "for i in range(100):\n",
    "    arr2.append(i)\n",
    "    print(len(arr2))\n",
    "    size = sys.getsizeof(arr2)\n",
    "    print(size)\n",
    "    print('')"
   ]
  },
  {
   "cell_type": "code",
   "execution_count": null,
   "metadata": {},
   "outputs": [],
   "source": []
  }
 ],
 "metadata": {
  "kernelspec": {
   "display_name": "Python 3",
   "language": "python",
   "name": "python3"
  },
  "language_info": {
   "codemirror_mode": {
    "name": "ipython",
    "version": 3
   },
   "file_extension": ".py",
   "mimetype": "text/x-python",
   "name": "python",
   "nbconvert_exporter": "python",
   "pygments_lexer": "ipython3",
   "version": "3.8.6"
  }
 },
 "nbformat": 4,
 "nbformat_minor": 4
}
