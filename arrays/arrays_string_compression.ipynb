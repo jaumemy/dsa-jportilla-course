{
 "cells": [
  {
   "cell_type": "code",
   "execution_count": 32,
   "metadata": {},
   "outputs": [],
   "source": [
    "def my_compress(s):\n",
    "    \n",
    "    dict = {}\n",
    "    \n",
    "    for letter in s:\n",
    "        if letter not in dict.keys():\n",
    "            dict[letter] = 1\n",
    "        else:\n",
    "            dict[letter] += 1\n",
    "            \n",
    "    compressed_str = ''\n",
    "    \n",
    "    for letter in dict.keys():\n",
    "        compressed_str += letter + str(dict[letter])\n",
    "    \n",
    "    return compressed_str"
   ]
  },
  {
   "cell_type": "code",
   "execution_count": 35,
   "metadata": {},
   "outputs": [
    {
     "data": {
      "text/plain": [
       "'A5B4C4c1'"
      ]
     },
     "execution_count": 35,
     "metadata": {},
     "output_type": "execute_result"
    }
   ],
   "source": [
    "my_compress('AAAAABBBBCCCCc')"
   ]
  },
  {
   "cell_type": "code",
   "execution_count": 34,
   "metadata": {},
   "outputs": [
    {
     "name": "stdout",
     "output_type": "stream",
     "text": [
      "ALL TEST CASES PASSED\n"
     ]
    }
   ],
   "source": [
    "\"\"\"\n",
    "RUN THIS CELL TO TEST YOUR SOLUTION\n",
    "\"\"\"\n",
    "from nose.tools import assert_equal\n",
    "\n",
    "class TestCompress(object):\n",
    "\n",
    "    def test(self, sol):\n",
    "        assert_equal(sol(''), '')\n",
    "        assert_equal(sol('AABBCC'), 'A2B2C2')\n",
    "        assert_equal(sol('AAABCCDDDDD'), 'A3B1C2D5')\n",
    "        print('ALL TEST CASES PASSED')\n",
    "\n",
    "# Run Tests\n",
    "t = TestCompress()\n",
    "t.test(my_compress)"
   ]
  },
  {
   "cell_type": "code",
   "execution_count": null,
   "metadata": {},
   "outputs": [],
   "source": []
  },
  {
   "cell_type": "code",
   "execution_count": 38,
   "metadata": {},
   "outputs": [],
   "source": [
    "def compress(s):\n",
    "    \n",
    "    r = \"\"\n",
    "    l = len(s)\n",
    "    \n",
    "    if l == 0:\n",
    "        return \"\"\n",
    "    \n",
    "    if l == 1:\n",
    "        return s + \"1\"\n",
    "    \n",
    "    # last = s[0]\n",
    "    cnt = 1\n",
    "    i = 1\n",
    "    \n",
    "    while i < l:\n",
    "        \n",
    "        if s[i] == s[i-1]:\n",
    "            cnt += 1\n",
    "            \n",
    "        else :\n",
    "            r += s[i-1] + str(cnt)\n",
    "            cnt = 1\n",
    "    \n",
    "        i += 1\n",
    "        \n",
    "    return r"
   ]
  },
  {
   "cell_type": "code",
   "execution_count": 48,
   "metadata": {},
   "outputs": [
    {
     "data": {
      "text/plain": [
       "'A5B4C4'"
      ]
     },
     "execution_count": 48,
     "metadata": {},
     "output_type": "execute_result"
    }
   ],
   "source": [
    "compress('AAAAABBBBCCCC')"
   ]
  },
  {
   "cell_type": "code",
   "execution_count": null,
   "metadata": {},
   "outputs": [],
   "source": []
  }
 ],
 "metadata": {
  "kernelspec": {
   "display_name": "Python 3",
   "language": "python",
   "name": "python3"
  },
  "language_info": {
   "codemirror_mode": {
    "name": "ipython",
    "version": 3
   },
   "file_extension": ".py",
   "mimetype": "text/x-python",
   "name": "python",
   "nbconvert_exporter": "python",
   "pygments_lexer": "ipython3",
   "version": "3.8.6"
  }
 },
 "nbformat": 4,
 "nbformat_minor": 4
}
