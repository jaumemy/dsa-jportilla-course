{
 "cells": [
  {
   "cell_type": "code",
   "execution_count": 3,
   "metadata": {},
   "outputs": [],
   "source": [
    "class Node:\n",
    "\n",
    "    def __init__(self, value):\n",
    "        self.value = value\n",
    "        self.nextnode  = None"
   ]
  },
  {
   "cell_type": "code",
   "execution_count": 9,
   "metadata": {},
   "outputs": [],
   "source": [
    "def nth_to_last_node(n, head):\n",
    "    \n",
    "    list_ = []\n",
    "    current_node = head\n",
    "    \n",
    "    while current_node:\n",
    "        list_.append(current_node)\n",
    "        current_node = current_node.nextnode\n",
    "        \n",
    "    return list_[-n]"
   ]
  },
  {
   "cell_type": "code",
   "execution_count": 10,
   "metadata": {},
   "outputs": [],
   "source": [
    "a = Node(1)\n",
    "b = Node(2)\n",
    "c = Node(3)\n",
    "d = Node(4)\n",
    "e = Node(5)\n",
    "\n",
    "a.nextnode = b\n",
    "b.nextnode = c\n",
    "c.nextnode = d\n",
    "d.nextnode = e "
   ]
  },
  {
   "cell_type": "code",
   "execution_count": 11,
   "metadata": {},
   "outputs": [],
   "source": [
    "# This would return the node d with a value of 4, because its the 2nd to last node.\n",
    "target_node = nth_to_last_node(2, a)"
   ]
  },
  {
   "cell_type": "code",
   "execution_count": 12,
   "metadata": {},
   "outputs": [
    {
     "data": {
      "text/plain": [
       "4"
      ]
     },
     "execution_count": 12,
     "metadata": {},
     "output_type": "execute_result"
    }
   ],
   "source": [
    "target_node.value"
   ]
  },
  {
   "cell_type": "code",
   "execution_count": 13,
   "metadata": {},
   "outputs": [
    {
     "name": "stdout",
     "output_type": "stream",
     "text": [
      "ALL TEST CASES PASSED\n"
     ]
    }
   ],
   "source": [
    "\"\"\"\n",
    "RUN THIS CELL TO TEST YOUR SOLUTION AGAINST A TEST CASE \n",
    "\n",
    "PLEASE NOTE THIS IS JUST ONE CASE\n",
    "\"\"\"\n",
    "\n",
    "from nose.tools import assert_equal\n",
    "\n",
    "a = Node(1)\n",
    "b = Node(2)\n",
    "c = Node(3)\n",
    "d = Node(4)\n",
    "e = Node(5)\n",
    "\n",
    "a.nextnode = b\n",
    "b.nextnode = c\n",
    "c.nextnode = d\n",
    "d.nextnode = e\n",
    "\n",
    "####\n",
    "\n",
    "class TestNLast(object):\n",
    "    \n",
    "    def test(self,sol):\n",
    "        \n",
    "        assert_equal(sol(2,a),d)\n",
    "        print('ALL TEST CASES PASSED')\n",
    "        \n",
    "# Run tests\n",
    "t = TestNLast()\n",
    "t.test(nth_to_last_node)"
   ]
  },
  {
   "cell_type": "code",
   "execution_count": null,
   "metadata": {},
   "outputs": [],
   "source": []
  },
  {
   "cell_type": "code",
   "execution_count": 1,
   "metadata": {},
   "outputs": [],
   "source": [
    "def nth_to_last_node_2(n, head):\n",
    "    \n",
    "    left_pointer = head\n",
    "    right_pointer = head\n",
    "    \n",
    "    for i in range(n-1):\n",
    "        \n",
    "        if not right_pointer.nextnode:\n",
    "            raise LookupError(\"Error --> n is larger than the linked list.\")\n",
    "        \n",
    "        right_pointer = right_pointer.nextnode\n",
    "    \n",
    "    while right_pointer.nextnode:\n",
    "        \n",
    "        left_pointer = left_pointer.nextnode\n",
    "        right_pointer = right_pointer.nextnode\n",
    "        \n",
    "    return left_pointer"
   ]
  },
  {
   "cell_type": "code",
   "execution_count": 4,
   "metadata": {},
   "outputs": [
    {
     "name": "stdout",
     "output_type": "stream",
     "text": [
      "ALL TEST CASES PASSED\n"
     ]
    }
   ],
   "source": [
    "\"\"\"\n",
    "RUN THIS CELL TO TEST YOUR SOLUTION AGAINST A TEST CASE \n",
    "\n",
    "PLEASE NOTE THIS IS JUST ONE CASE\n",
    "\"\"\"\n",
    "\n",
    "from nose.tools import assert_equal\n",
    "\n",
    "a = Node(1)\n",
    "b = Node(2)\n",
    "c = Node(3)\n",
    "d = Node(4)\n",
    "e = Node(5)\n",
    "\n",
    "a.nextnode = b\n",
    "b.nextnode = c\n",
    "c.nextnode = d\n",
    "d.nextnode = e\n",
    "\n",
    "####\n",
    "\n",
    "class TestNLast(object):\n",
    "    \n",
    "    def test(self,sol):\n",
    "        \n",
    "        assert_equal(sol(2,a),d)\n",
    "        print('ALL TEST CASES PASSED')\n",
    "        \n",
    "# Run tests\n",
    "t = TestNLast()\n",
    "t.test(nth_to_last_node_2)"
   ]
  },
  {
   "cell_type": "code",
   "execution_count": null,
   "metadata": {},
   "outputs": [],
   "source": []
  }
 ],
 "metadata": {
  "kernelspec": {
   "display_name": "Python 3",
   "language": "python",
   "name": "python3"
  },
  "language_info": {
   "codemirror_mode": {
    "name": "ipython",
    "version": 3
   },
   "file_extension": ".py",
   "mimetype": "text/x-python",
   "name": "python",
   "nbconvert_exporter": "python",
   "pygments_lexer": "ipython3",
   "version": "3.8.6"
  }
 },
 "nbformat": 4,
 "nbformat_minor": 4
}
